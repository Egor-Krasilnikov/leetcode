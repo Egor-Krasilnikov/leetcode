{
 "cells": [
  {
   "cell_type": "code",
   "execution_count": 7,
   "id": "4e79aab3-84cb-4f3d-94e6-88d275b8f8b4",
   "metadata": {},
   "outputs": [
    {
     "name": "stdout",
     "output_type": "stream",
     "text": [
      "['1->3', '24', '324']\n"
     ]
    }
   ],
   "source": [
    "from typing import List\n",
    "def summaryRanges( nums: List[int]) -> List[str]:\n",
    "    if not nums:\n",
    "        return 0\n",
    "    ans = []\n",
    "    i = 0\n",
    "    n = len(nums) \n",
    "    while i < n:\n",
    "        start = nums[i]\n",
    "        \n",
    "        while i < n-1 and nums[i + 1] == nums[i] + 1:   \n",
    "            i += 1\n",
    "        \n",
    "        if start != nums[i]:\n",
    "            ans.append(str(start) + '->' +str(nums[i]))\n",
    "        else:\n",
    "            ans.append(str(start))\n",
    "        i += 1\n",
    "    return ans\n",
    "         \n",
    "num = [1,2,3,24,324]\n",
    "print(summaryRanges(num))\n",
    "            "
   ]
  },
  {
   "cell_type": "code",
   "execution_count": null,
   "id": "1278941a-4532-450f-a13f-96fe49b4b6e5",
   "metadata": {},
   "outputs": [],
   "source": [
    "class Solution:\n",
    "    def summaryRanges(self, nums: List[int]) -> List[str]:\n",
    "        ans = []\n",
    "        i = 0\n",
    "\n",
    "        while i < len(nums):\n",
    "            start = nums[i]\n",
    "\n",
    "            while i < len(nums) -1 and nums[i] + 1 == nums[i + 1]: #we dont go out of bounds and checking if we dont have a break\n",
    "                i += 1\n",
    "\n",
    "            if start != nums[i]: #we hit a breaking point\n",
    "                ans.append(str(start) + '->' + str(nums[i]))\n",
    "            \n",
    "            else: #we dont have a breaking point\n",
    "                ans.append(str(nums[i])) #single number if your starting value is equal to nums[i]\n",
    "            \n",
    "            i += 1 #increment\n",
    "\n",
    "        return ans"
   ]
  }
 ],
 "metadata": {
  "kernelspec": {
   "display_name": "Python 3 (ipykernel)",
   "language": "python",
   "name": "python3"
  },
  "language_info": {
   "codemirror_mode": {
    "name": "ipython",
    "version": 3
   },
   "file_extension": ".py",
   "mimetype": "text/x-python",
   "name": "python",
   "nbconvert_exporter": "python",
   "pygments_lexer": "ipython3",
   "version": "3.12.6"
  }
 },
 "nbformat": 4,
 "nbformat_minor": 5
}
