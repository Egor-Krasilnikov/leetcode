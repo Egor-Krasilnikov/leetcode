{
 "cells": [
  {
   "cell_type": "code",
   "execution_count": 57,
   "id": "84b85a2c-cb11-4580-94d1-21e0f84cd9f4",
   "metadata": {},
   "outputs": [
    {
     "name": "stdout",
     "output_type": "stream",
     "text": [
      "200\n"
     ]
    }
   ],
   "source": [
    "def romanToInt(s: str) -> int:\n",
    "    sum = 0\n",
    "    romanToInt = {'I' : 1,\n",
    "                'V' : 5, \n",
    "                'X' : 10, \n",
    "                'L' : 50,\n",
    "                'C' : 100,\n",
    "                'D' : 500,\n",
    "                'M' : 1000}\n",
    "    prev_value = 0\n",
    "    for char in s:\n",
    "        cur_value = romanToInt[char]\n",
    "        if (prev_value < cur_value):\n",
    "            sum += cur_value - 2*prev_value\n",
    "        else:\n",
    "            sum += cur_value\n",
    "        prev_value = cur_value\n",
    "        \n",
    "    return sum\n",
    "print(romanToInt('LLLL'))\n",
    "         "
   ]
  },
  {
   "cell_type": "code",
   "execution_count": 71,
   "id": "2abc3c46-20d8-43ab-b0de-12f163eaaa4c",
   "metadata": {},
   "outputs": [
    {
     "name": "stdout",
     "output_type": "stream",
     "text": [
      "\n"
     ]
    }
   ],
   "source": [
    "def longestCommonPrefix(strs) -> str:\n",
    "    prefix = strs[0]\n",
    "    for string in strs[1:]:\n",
    "        while prefix != string[:len(prefix)]:\n",
    "            prefix = prefix[:-1]\n",
    "            if not prefix :\n",
    "                return \"\"\n",
    "    return prefix\n",
    "        \n",
    "print(longestCommonPrefix([\"flower\",\"ow\",\"flight\"]))\n"
   ]
  },
  {
   "cell_type": "code",
   "execution_count": null,
   "id": "cabd38d9-583c-4c3f-ab4c-96336a811b6f",
   "metadata": {},
   "outputs": [],
   "source": [
    "."
   ]
  },
  {
   "cell_type": "code",
   "execution_count": null,
   "id": "5c394e87-7f2b-4fcc-af14-995f551e6266",
   "metadata": {},
   "outputs": [],
   "source": []
  }
 ],
 "metadata": {
  "kernelspec": {
   "display_name": "Python 3 (ipykernel)",
   "language": "python",
   "name": "python3"
  },
  "language_info": {
   "codemirror_mode": {
    "name": "ipython",
    "version": 3
   },
   "file_extension": ".py",
   "mimetype": "text/x-python",
   "name": "python",
   "nbconvert_exporter": "python",
   "pygments_lexer": "ipython3",
   "version": "3.12.6"
  }
 },
 "nbformat": 4,
 "nbformat_minor": 5
}
