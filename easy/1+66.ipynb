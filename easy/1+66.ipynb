{
 "cells": [
  {
   "cell_type": "code",
   "execution_count": 14,
   "id": "d84dc56f-a33c-408d-a313-c978d82fe8f0",
   "metadata": {},
   "outputs": [
    {
     "name": "stdin",
     "output_type": "stream",
     "text": [
      " [2,7,10,11]\n",
      " 9\n"
     ]
    },
    {
     "name": "stdout",
     "output_type": "stream",
     "text": [
      "[0, 1]\n"
     ]
    }
   ],
   "source": [
    "class Solution:\n",
    "    def twoSum(self, arr, target: int):\n",
    "        num_to_idx = {}\n",
    "        for index, num in enumerate(arr):\n",
    "            second_num = target - num\n",
    "            if second_num in num_to_idx:\n",
    "                return [num_to_idx[second_num], index]\n",
    "            num_to_idx[num] = index  \n",
    "nums = list(map(int, input().strip(\"[]\").split(\",\")))\n",
    "target = int(input())\n",
    "solution = Solution()\n",
    "print(solution.twoSum(nums, target))\n"
   ]
  },
  {
   "cell_type": "code",
   "execution_count": null,
   "id": "08f1273d-5d5b-4ddf-bf31-38c94ccdb809",
   "metadata": {},
   "outputs": [],
   "source": [
    "class Solution:\n",
    "    def twoSum(self, arr, target: int):\n",
    "        for index, num in enumerate(arr):\n",
    "            second_num = target - num\n",
    "            for index_2 in range(index + 1, len(arr)):\n",
    "                if arr[index_2] == second_num:\n",
    "                    return [index, index_2]\n",
    "            # Второй раз через enumerate\n",
    "            # for index_2, num_2 in enumerate(arr[index+1:], start=index+1):\n",
    "                # if num_2 == second_num:\n",
    "                    # return [index, index_2]\n",
    "              \n",
    "nums = list(map(int, input().strip(\"[]\").split(\",\")))\n",
    "target = int(input())\n",
    "solution = Solution()\n",
    "print(solution.twoSum(nums, target))"
   ]
  },
  {
   "cell_type": "code",
   "execution_count": 43,
   "id": "9ad50f5d-a17e-44e0-a7e3-54c1ab7813b7",
   "metadata": {},
   "outputs": [
    {
     "name": "stdout",
     "output_type": "stream",
     "text": [
      "[1, 9, 0, 0]\n"
     ]
    }
   ],
   "source": [
    "#66\n",
    "from typing import List\n",
    "def plusOne(digits: List[int]) -> List[int]:\n",
    "    n = len(digits)\n",
    "    for i in range(n - 1, - 1, - 1):\n",
    "        if digits[i] != 9:\n",
    "            digits[i] += 1\n",
    "            break\n",
    "        else:\n",
    "            digits[i] = 0\n",
    "   # if len(set(digits)) == 1 and digits[0] == 0:\n",
    "     #   digits.insert(0, 1)\n",
    "    if all(x == 0 for x in digits):\n",
    "        digits.insert(0, 1)\n",
    "    return digits\n",
    "digits = [8, 9, 9]\n",
    "print(plusOne(digits))"
   ]
  },
  {
   "cell_type": "code",
   "execution_count": null,
   "id": "b34df659-d480-44ba-be36-f9c884cbadc2",
   "metadata": {},
   "outputs": [],
   "source": []
  }
 ],
 "metadata": {
  "kernelspec": {
   "display_name": "Python 3 (ipykernel)",
   "language": "python",
   "name": "python3"
  },
  "language_info": {
   "codemirror_mode": {
    "name": "ipython",
    "version": 3
   },
   "file_extension": ".py",
   "mimetype": "text/x-python",
   "name": "python",
   "nbconvert_exporter": "python",
   "pygments_lexer": "ipython3",
   "version": "3.12.6"
  }
 },
 "nbformat": 4,
 "nbformat_minor": 5
}
