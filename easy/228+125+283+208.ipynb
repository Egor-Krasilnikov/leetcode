{
 "cells": [
  {
   "cell_type": "code",
   "execution_count": 7,
   "id": "4e79aab3-84cb-4f3d-94e6-88d275b8f8b4",
   "metadata": {},
   "outputs": [
    {
     "name": "stdout",
     "output_type": "stream",
     "text": [
      "['1->3', '24', '324']\n"
     ]
    }
   ],
   "source": [
    "# 228\n",
    "from typing import List\n",
    "def summaryRanges( nums: List[int]) -> List[str]:\n",
    "    if not nums:\n",
    "        return 0\n",
    "    ans = []\n",
    "    i = 0\n",
    "    n = len(nums) \n",
    "    while i < n:\n",
    "        start = nums[i]\n",
    "        \n",
    "        while i < n-1 and nums[i + 1] == nums[i] + 1:   \n",
    "            i += 1\n",
    "        \n",
    "        if start != nums[i]:\n",
    "            ans.append(str(start) + '->' +str(nums[i]))\n",
    "        else:\n",
    "            ans.append(str(start))\n",
    "        i += 1\n",
    "    return ans\n",
    "         \n",
    "num = [1,2,3,24,324]\n",
    "print(summaryRanges(num))\n",
    "            "
   ]
  },
  {
   "cell_type": "code",
   "execution_count": 48,
   "id": "1278941a-4532-450f-a13f-96fe49b4b6e5",
   "metadata": {},
   "outputs": [
    {
     "name": "stdout",
     "output_type": "stream",
     "text": [
      "amanaplanacanalpanama\n",
      "amanaplanacanalpanama\n",
      "True\n"
     ]
    }
   ],
   "source": [
    "# 125 palindrome\n",
    "def isPalindrome(s: str) -> bool:\n",
    "    s = s.lower()\n",
    "    s = ''.join(char for char in s if char.isalpha())\n",
    "    return s == s[::-1]\n",
    "z ='\"A man, a plan, a canal: Panama\"'\n",
    "print(isPalindrome(z))"
   ]
  },
  {
   "cell_type": "code",
   "execution_count": 40,
   "id": "10f48f24-7e91-4cbc-9ca0-a493210f5ddc",
   "metadata": {},
   "outputs": [
    {
     "name": "stdout",
     "output_type": "stream",
     "text": [
      "veFo VgWJSEgkesf\n"
     ]
    }
   ],
   "source": [
    "class Solution:\n",
    "    def isPalindrome(self, s: str) -> bool:\n",
    "        symbols = 'abcdefghijklmnopqrstuvwxyz1234567890'\n",
    "        new_s = ''\n",
    "\n",
    "        for i in s.lower():\n",
    "            if i in symbols:\n",
    "                new_s += i\n",
    "        \n",
    "        return new_s[::-1] == new_s\n",
    "# экономия на памяти, не создаем новый список\n",
    "    def isPalindrome(self, s: str) -> bool:\n",
    "        left, right = 0, len(s) - 1\n",
    "        while left < right:\n",
    "            while left < right and not s[left].isalnum():\n",
    "                left += 1\n",
    "            while left < right and not s[right].isalnum():\n",
    "                right -= 1\n",
    "            if s[left].lower() != s[right].lower():\n",
    "                return False\n",
    "            left += 1\n",
    "            right -= 1\n",
    "        return True"
   ]
  },
  {
   "cell_type": "code",
   "execution_count": 1,
   "id": "df3c5173-edde-4de2-b4a2-8781aaec0f3e",
   "metadata": {},
   "outputs": [
    {
     "name": "stdout",
     "output_type": "stream",
     "text": [
      "[1, 3, 12, 0, 0]\n"
     ]
    }
   ],
   "source": [
    "# 283\n",
    "from typing import List\n",
    "def moveZeroes(nums: List[int])-> List:\n",
    "    non_zero_index = 0     \n",
    "    for i in range(len(nums)):\n",
    "        if nums[i] != 0:\n",
    "            nums[non_zero_index], nums[i] = nums[i], nums[non_zero_index]\n",
    "            non_zero_index += 1\n",
    "    return nums\n",
    "arr = [0,1,0,3,12]\n",
    "print(moveZeroes(arr))"
   ]
  },
  {
   "cell_type": "code",
   "execution_count": null,
   "id": "7fbbeb1c-c5cf-4a15-8810-d046c2709d7e",
   "metadata": {},
   "outputs": [],
   "source": [
    "# Definition for singly-linked list.\n",
    "# class ListNode:\n",
    "#     def __init__(self, val=0, next=None):\n",
    "#         self.val = val\n",
    "#         self.next = next\n",
    "class Solution:\n",
    "    def reverseList(self, head: Optional[ListNode]) -> Optional[ListNode]:\n",
    "        new_list = None\n",
    "        current = head\n",
    "        while current:\n",
    "            next_node = current.next\n",
    "            current.next = new_list\n",
    "            new_list = current \n",
    "            current = next_node\n",
    "        return new_list"
   ]
  },
  {
   "cell_type": "code",
   "execution_count": null,
   "id": "2c069bf6-20a8-433b-972e-cbc53ad58da2",
   "metadata": {},
   "outputs": [],
   "source": [
    "#"
   ]
  }
 ],
 "metadata": {
  "kernelspec": {
   "display_name": "Python 3 (ipykernel)",
   "language": "python",
   "name": "python3"
  },
  "language_info": {
   "codemirror_mode": {
    "name": "ipython",
    "version": 3
   },
   "file_extension": ".py",
   "mimetype": "text/x-python",
   "name": "python",
   "nbconvert_exporter": "python",
   "pygments_lexer": "ipython3",
   "version": "3.12.6"
  }
 },
 "nbformat": 4,
 "nbformat_minor": 5
}
