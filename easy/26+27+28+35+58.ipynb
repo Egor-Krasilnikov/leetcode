{
 "cells": [
  {
   "cell_type": "code",
   "execution_count": 14,
   "id": "daf52e94-aa3e-4c89-982b-9b67f2bb7cfd",
   "metadata": {},
   "outputs": [
    {
     "name": "stdout",
     "output_type": "stream",
     "text": [
      "(5, [0, 1, 2, 3, 4])\n"
     ]
    }
   ],
   "source": [
    "#26\n",
    "from typing import List\n",
    "def removeDuplicates(nums: List[int]) -> int:\n",
    "    n = len(nums)\n",
    "    j = 1\n",
    "    for i in range(1, n):\n",
    "        if nums[i] != nums[i-1]:\n",
    "            nums[j] = nums[i] \n",
    "            j += 1\n",
    "    return j, nums[:j]\n",
    "nums = [0,0,1,1,1,2,2,3,3,4]\n",
    "\n",
    "print(removeDuplicates(nums))"
   ]
  },
  {
   "cell_type": "code",
   "execution_count": 9,
   "id": "8efb6100-8abf-4428-8c9f-0a6d7990f9e2",
   "metadata": {},
   "outputs": [
    {
     "name": "stdout",
     "output_type": "stream",
     "text": [
      "(7, [0, 0, 2, 2, 3, 3, 4])\n"
     ]
    }
   ],
   "source": [
    "#27\n",
    "from typing import List\n",
    "def removeElement(nums: List[int], val: int):\n",
    "    n = len(nums)\n",
    "    j = 0\n",
    "    for i in range(n):\n",
    "        if (nums[i] != val):\n",
    "            nums[j] = nums[i] \n",
    "            j += 1\n",
    "    return j, nums[:j]\n",
    "nums = [0,0,1,1,1,2,2,3,3,4]\n",
    "value = 1\n",
    "print(removeElement(nums, value))"
   ]
  },
  {
   "cell_type": "code",
   "execution_count": 37,
   "id": "0650d954-e979-46b2-97fd-11f4957253a7",
   "metadata": {},
   "outputs": [
    {
     "name": "stdout",
     "output_type": "stream",
     "text": [
      "-1\n"
     ]
    }
   ],
   "source": [
    "# 28\n",
    "def strStr(haystack: str, needle: str) -> int:\n",
    "    n = len(haystack)\n",
    "    l = len(needle) \n",
    "    for i in range(n-l+1):\n",
    "        if haystack[i:i+l] == needle:\n",
    "            return i\n",
    "    return -1\n",
    "haystack, needle  = \"leetcode\", \"leeto\"\n",
    "\n",
    "print(strStr(haystack, needle))\n"
   ]
  },
  {
   "cell_type": "code",
   "execution_count": 1,
   "id": "8d2930fe-4fc4-4aab-892e-779f9115bfef",
   "metadata": {},
   "outputs": [
    {
     "name": "stdout",
     "output_type": "stream",
     "text": [
      "4\n"
     ]
    }
   ],
   "source": [
    "#35 binary search\n",
    "from typing import List\n",
    "\n",
    "def SearchInsert(nums: List[int], target : int) -> int:\n",
    "    left = 0\n",
    "    right = len(nums) - 1\n",
    "        \n",
    "    while left <= right:\n",
    "        mid = (left + right) // 2 \n",
    "    \n",
    "        if nums[mid] == target:\n",
    "            return mid    \n",
    "        elif nums[mid] > target:\n",
    "             right = mid - 1\n",
    "        else: \n",
    "            left = mid + 1\n",
    "    return left\n",
    "nums = [1,3,5,6]\n",
    "target = 7\n",
    "print(SearchInsert(nums, target))\n"
   ]
  },
  {
   "cell_type": "code",
   "execution_count": 8,
   "id": "4a59b28b-e4e7-4b90-8e11-5572ecee9383",
   "metadata": {},
   "outputs": [
    {
     "data": {
      "text/plain": [
       "5"
      ]
     },
     "execution_count": 8,
     "metadata": {},
     "output_type": "execute_result"
    }
   ],
   "source": [
    "#58 решение без split \n",
    "def lengthOfLastWord(s: str) -> int:\n",
    "    n = len(s)\n",
    "    length = 0\n",
    "    for i in range(n - 1, -1 ,-1):\n",
    "        if s[i] == ' ' and length == 0:\n",
    "            continue\n",
    "        elif s[i] != ' ':\n",
    "            length += 1\n",
    "        else:\n",
    "            break\n",
    "    return length\n",
    "s = \"Hello\"\n",
    "lengthOfLastWord(s)\n"
   ]
  },
  {
   "cell_type": "code",
   "execution_count": 38,
   "id": "819d21ee-44f9-4eed-8654-4458e76f7b2a",
   "metadata": {},
   "outputs": [
    {
     "data": {
      "text/plain": [
       "5"
      ]
     },
     "execution_count": 38,
     "metadata": {},
     "output_type": "execute_result"
    }
   ],
   "source": [
    "#58\n",
    "def lengthOfLastWord(s: str) -> int:\n",
    "    words = s.split()\n",
    "    return len(words[-1])\n",
    "s = \"Hello asldep skvmd  \"\n",
    "lengthOfLastWord(s)"
   ]
  },
  {
   "cell_type": "code",
   "execution_count": 28,
   "id": "c7e69777-6a27-4c7e-b362-ae0a80c41fa8",
   "metadata": {},
   "outputs": [
    {
     "data": {
      "text/plain": [
       "['world']"
      ]
     },
     "execution_count": 28,
     "metadata": {},
     "output_type": "execute_result"
    }
   ],
   "source": [
    "s = 'hello world  '\n",
    "z = s.split()\n",
    "z[-1:]"
   ]
  },
  {
   "cell_type": "code",
   "execution_count": 4,
   "id": "c8023f65-fb67-4eb6-96a8-c780a1826221",
   "metadata": {},
   "outputs": [
    {
     "name": "stdout",
     "output_type": "stream",
     "text": [
      "vs\n"
     ]
    }
   ],
   "source": []
  }
 ],
 "metadata": {
  "kernelspec": {
   "display_name": "Python 3 (ipykernel)",
   "language": "python",
   "name": "python3"
  },
  "language_info": {
   "codemirror_mode": {
    "name": "ipython",
    "version": 3
   },
   "file_extension": ".py",
   "mimetype": "text/x-python",
   "name": "python",
   "nbconvert_exporter": "python",
   "pygments_lexer": "ipython3",
   "version": "3.12.6"
  }
 },
 "nbformat": 4,
 "nbformat_minor": 5
}
