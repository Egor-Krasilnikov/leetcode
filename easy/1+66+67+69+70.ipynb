{
 "cells": [
  {
   "cell_type": "code",
   "execution_count": 14,
   "id": "d84dc56f-a33c-408d-a313-c978d82fe8f0",
   "metadata": {},
   "outputs": [
    {
     "name": "stdin",
     "output_type": "stream",
     "text": [
      " [2,7,10,11]\n",
      " 9\n"
     ]
    },
    {
     "name": "stdout",
     "output_type": "stream",
     "text": [
      "[0, 1]\n"
     ]
    }
   ],
   "source": [
    "class Solution:\n",
    "    def twoSum(self, arr, target: int):\n",
    "        num_to_idx = {}\n",
    "        for index, num in enumerate(arr):\n",
    "            second_num = target - num\n",
    "            if second_num in num_to_idx:\n",
    "                return [num_to_idx[second_num], index]\n",
    "            num_to_idx[num] = index  \n",
    "nums = list(map(int, input().strip(\"[]\").split(\",\")))\n",
    "target = int(input())\n",
    "solution = Solution()\n",
    "print(solution.twoSum(nums, target))\n"
   ]
  },
  {
   "cell_type": "code",
   "execution_count": null,
   "id": "08f1273d-5d5b-4ddf-bf31-38c94ccdb809",
   "metadata": {},
   "outputs": [],
   "source": [
    "class Solution:\n",
    "    def twoSum(self, arr, target: int):\n",
    "        for index, num in enumerate(arr):\n",
    "            second_num = target - num\n",
    "            for index_2 in range(index + 1, len(arr)):\n",
    "                if arr[index_2] == second_num:\n",
    "                    return [index, index_2]\n",
    "            # Второй раз через enumerate\n",
    "            # for index_2, num_2 in enumerate(arr[index+1:], start=index+1):\n",
    "                # if num_2 == second_num:\n",
    "                    # return [index, index_2]\n",
    "              \n",
    "nums = list(map(int, input().strip(\"[]\").split(\",\")))\n",
    "target = int(input())\n",
    "solution = Solution()\n",
    "print(solution.twoSum(nums, target))"
   ]
  },
  {
   "cell_type": "code",
   "execution_count": 1,
   "id": "9ad50f5d-a17e-44e0-a7e3-54c1ab7813b7",
   "metadata": {},
   "outputs": [
    {
     "name": "stdout",
     "output_type": "stream",
     "text": [
      "[9, 0, 0]\n"
     ]
    }
   ],
   "source": [
    "#66\n",
    "from typing import List\n",
    "def plusOne(digits: List[int]) -> List[int]:\n",
    "    n = len(digits)\n",
    "    for i in range(n - 1, - 1, - 1):\n",
    "        if digits[i] != 9:\n",
    "            digits[i] += 1\n",
    "            return digits\n",
    "        else:\n",
    "            digits[i] = 0\n",
    "   # if len(set(digits)) == 1 and digits[0] == 0:\n",
    "     #   digits.insert(0, 1)\n",
    "    # if all(x == 0 for x in digits):\n",
    "    #     digits.insert(0 1)\n",
    "    return [1] + digits\n",
    "    # return digits\n",
    "digits = [8, 9, 9]\n",
    "print(plusOne(digits))"
   ]
  },
  {
   "cell_type": "code",
   "execution_count": 46,
   "id": "b34df659-d480-44ba-be36-f9c884cbadc2",
   "metadata": {},
   "outputs": [
    {
     "name": "stdout",
     "output_type": "stream",
     "text": [
      "11000\n"
     ]
    }
   ],
   "source": [
    "# 67\n",
    "\n",
    "def addBinary(a: str, b: str) :\n",
    "    num1 = int(a, 2)\n",
    "    num2 = int(b, 2)\n",
    "    \n",
    "    result = num1 + num2\n",
    "    \n",
    "    return bin(result)[2:] \n",
    "print(addBinary(\"1011\", \"1101\"))"
   ]
  },
  {
   "cell_type": "code",
   "execution_count": 54,
   "id": "0b85ec51-fcc0-4d75-b3ad-cea78e951aa2",
   "metadata": {},
   "outputs": [
    {
     "name": "stdout",
     "output_type": "stream",
     "text": [
      "11000\n"
     ]
    }
   ],
   "source": [
    "# 67\n",
    "def addBinaryManual(a: str, b: str) -> str:\n",
    "    max_len = max(len(a), len(b))\n",
    "    a = a.zfill(max_len)\n",
    "    b = b.zfill(max_len)\n",
    "    carry = 0\n",
    "    res = []\n",
    "    for i in range(max_len - 1, -1, -1):\n",
    "        total = int(a[i]) + int(b[i]) + carry\n",
    "        res.append(str(total % 2))\n",
    "        carry = total // 2\n",
    "            \n",
    "    if carry == 1:\n",
    "        res.append('1')\n",
    "    return ''.join(res[::-1])\n",
    "print(addBinaryManual(\"1011\", \"1101\"))"
   ]
  },
  {
   "cell_type": "code",
   "execution_count": 22,
   "id": "91d4539c-d56c-4e0f-b75f-692b48e785f0",
   "metadata": {},
   "outputs": [
    {
     "name": "stdout",
     "output_type": "stream",
     "text": [
      "2\n"
     ]
    }
   ],
   "source": [
    "# 69\n",
    "def mySqrt(x: int) -> int:\n",
    "    \n",
    "    for i in range(x // 2 + 1):\n",
    "        if i * i <= x and x < (i + 1 ) *(i + 1):\n",
    "            return i\n",
    "    return 1\n",
    "print(mySqrt(4))"
   ]
  },
  {
   "cell_type": "code",
   "execution_count": 45,
   "id": "e121f7db-6045-42a3-b570-6c535b8270ea",
   "metadata": {},
   "outputs": [
    {
     "name": "stdout",
     "output_type": "stream",
     "text": [
      "1 8 16\n",
      "1 4 7\n",
      "4\n"
     ]
    }
   ],
   "source": [
    "def mySqrt(x: int) -> int:\n",
    "    left = 1 \n",
    "    right = x \n",
    "    while left <= right:\n",
    "        mid = (left + right) // 2\n",
    "        print(left, mid, right)\n",
    "        if mid*mid == x:\n",
    "            return mid\n",
    "        if mid*mid >= x:\n",
    "            right = mid-1 \n",
    "        else:\n",
    "            left = mid +1\n",
    "    return right\n",
    "print(mySqrt(16))\n"
   ]
  },
  {
   "cell_type": "code",
   "execution_count": 2,
   "id": "b7b29de9-9d6a-4978-87ff-50300ca2b9d2",
   "metadata": {},
   "outputs": [
    {
     "ename": "TypeError",
     "evalue": "climbStairs() missing 1 required positional argument: 'n'",
     "output_type": "error",
     "traceback": [
      "\u001b[1;31m---------------------------------------------------------------------------\u001b[0m",
      "\u001b[1;31mTypeError\u001b[0m                                 Traceback (most recent call last)",
      "Cell \u001b[1;32mIn[2], line 16\u001b[0m\n\u001b[0;32m     14\u001b[0m         \u001b[38;5;28mself\u001b[39m\u001b[38;5;241m.\u001b[39mmemo[n] \u001b[38;5;241m=\u001b[39m \u001b[38;5;28mself\u001b[39m\u001b[38;5;241m.\u001b[39mclimbStairs(n \u001b[38;5;241m-\u001b[39m \u001b[38;5;241m1\u001b[39m) \u001b[38;5;241m+\u001b[39m \u001b[38;5;28mself\u001b[39m\u001b[38;5;241m.\u001b[39mclimbStairs(n \u001b[38;5;241m-\u001b[39m \u001b[38;5;241m2\u001b[39m)\n\u001b[0;32m     15\u001b[0m         \u001b[38;5;28;01mreturn\u001b[39;00m \u001b[38;5;28mself\u001b[39m\u001b[38;5;241m.\u001b[39mclimbStairs(n \u001b[38;5;241m-\u001b[39m \u001b[38;5;241m1\u001b[39m) \u001b[38;5;241m+\u001b[39m \u001b[38;5;28mself\u001b[39m\u001b[38;5;241m.\u001b[39mclimbStairs(n \u001b[38;5;241m-\u001b[39m \u001b[38;5;241m2\u001b[39m)\n\u001b[1;32m---> 16\u001b[0m \u001b[38;5;28mprint\u001b[39m(\u001b[43mclimbStairs\u001b[49m\u001b[43m(\u001b[49m\u001b[38;5;241;43m16\u001b[39;49m\u001b[43m)\u001b[49m)     \n",
      "\u001b[1;31mTypeError\u001b[0m: climbStairs() missing 1 required positional argument: 'n'"
     ]
    }
   ],
   "source": [
    "#70 \n",
    "class Solution:\n",
    "    def __init__(self):\n",
    "        self.memo = {} \n",
    "    def climbStairs(self, n: int) -> int:\n",
    "        \n",
    "        if n in self.memo:  \n",
    "            return self.memo[n]\n",
    "        if n == 1:\n",
    "            return 1\n",
    "        elif n == 2:\n",
    "            return 2\n",
    "        else:\n",
    "            self.memo[n] = self.climbStairs(n - 1) + self.climbStairs(n - 2)\n",
    "            return self.climbStairs(n - 1) + self.climbStairs(n - 2)\n",
    "sol = solution()"
   ]
  },
  {
   "cell_type": "code",
   "execution_count": null,
   "id": "37d5b450-e6df-4b21-ba3a-eaace5b7c64c",
   "metadata": {},
   "outputs": [],
   "source": []
  }
 ],
 "metadata": {
  "kernelspec": {
   "display_name": "Python 3 (ipykernel)",
   "language": "python",
   "name": "python3"
  },
  "language_info": {
   "codemirror_mode": {
    "name": "ipython",
    "version": 3
   },
   "file_extension": ".py",
   "mimetype": "text/x-python",
   "name": "python",
   "nbconvert_exporter": "python",
   "pygments_lexer": "ipython3",
   "version": "3.12.6"
  }
 },
 "nbformat": 4,
 "nbformat_minor": 5
}
