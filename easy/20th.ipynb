{
 "cells": [
  {
   "cell_type": "code",
   "execution_count": 13,
   "id": "75bd3a9c-c0e1-44a7-bb98-b6052cfbd666",
   "metadata": {},
   "outputs": [
    {
     "name": "stdout",
     "output_type": "stream",
     "text": [
      "False\n"
     ]
    }
   ],
   "source": [
    "def isValid(s:str)-> bool: \n",
    "    for i in range(len(s)//2):\n",
    "        s = s.replace('{}','').replace('[]','').replace('()','')\n",
    "    return s == ''\n",
    "print(isValid(\"([)]\"))"
   ]
  },
  {
   "cell_type": "code",
   "execution_count": 36,
   "id": "e9a5e56f-ba2e-4eca-9f42-708084bfedac",
   "metadata": {},
   "outputs": [
    {
     "name": "stdout",
     "output_type": "stream",
     "text": [
      "False\n"
     ]
    }
   ],
   "source": [
    "def isValid(s: str) -> bool:\n",
    "    bracket_map = {')':'(', ']':'[','}':'{'}\n",
    "    stack = []\n",
    "    for char in s:\n",
    "        if char in bracket_map:\n",
    "            if stack and stack[-1] == bracket_map[char]:\n",
    "                stack.pop()\n",
    "            else:\n",
    "                return False\n",
    "        else:\n",
    "            stack.append(char)\n",
    "\n",
    "    return not stack\n",
    "print(isValid(\"()[]{}\"))"
   ]
  },
  {
   "cell_type": "code",
   "execution_count": 41,
   "id": "c1fba750-3fd6-4ce5-9fad-07752806be8b",
   "metadata": {},
   "outputs": [
    {
     "name": "stdout",
     "output_type": "stream",
     "text": [
      "False\n"
     ]
    }
   ],
   "source": [
    "def isValid(s: str) -> bool:\n",
    "    openBrackets = [0,0,0]\n",
    "    for char in s:\n",
    "        if char == \"(\":\n",
    "            openBrackets[0] += 1\n",
    "        if char == \")\":\n",
    "            openBrackets[0] -= 1\n",
    "        if char == \"[\":\n",
    "            openBrackets[1] += 1\n",
    "        if char == \"]\":\n",
    "            openBrackets[1] -= 1\n",
    "        if char == \"{\":\n",
    "            openBrackets[2] += 1\n",
    "        if char == \"}\":\n",
    "            openBrackets[2] -= 1\n",
    "    if not (openBrackets[0] >= 0 and openBrackets[1] >= 0 and openBrackets[2] >= 0):\n",
    "            return False\n",
    "    if openBrackets != [0,0,0]:\n",
    "            return False\n",
    "    return True\n",
    "print(isValid(\"))[]{}\"))\n"
   ]
  },
  {
   "cell_type": "code",
   "execution_count": null,
   "id": "797321c5-df98-4491-841c-9b2c350f4fc2",
   "metadata": {},
   "outputs": [],
   "source": []
  }
 ],
 "metadata": {
  "kernelspec": {
   "display_name": "Python 3 (ipykernel)",
   "language": "python",
   "name": "python3"
  },
  "language_info": {
   "codemirror_mode": {
    "name": "ipython",
    "version": 3
   },
   "file_extension": ".py",
   "mimetype": "text/x-python",
   "name": "python",
   "nbconvert_exporter": "python",
   "pygments_lexer": "ipython3",
   "version": "3.12.6"
  }
 },
 "nbformat": 4,
 "nbformat_minor": 5
}
