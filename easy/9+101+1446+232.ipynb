{
 "cells": [
  {
   "cell_type": "code",
   "execution_count": 34,
   "id": "19df0778-1dd7-48c1-87d9-55a1008ad611",
   "metadata": {},
   "outputs": [
    {
     "name": "stdout",
     "output_type": "stream",
     "text": [
      "True\n"
     ]
    }
   ],
   "source": [
    "def isPalindrom(x:int):\n",
    "    arr = []\n",
    "    if x < 0:\n",
    "        return False\n",
    "    elif x < 10:\n",
    "        return True\n",
    "    while x > 0:\n",
    "        arr.append(x % 10)\n",
    "        x = x // 10 \n",
    "    for i in range(len(arr)//2 ):\n",
    "        if arr[i] != arr[-(i + 1)]:  \n",
    "            return False\n",
    "    return True\n",
    "print(isPalindrom(0))"
   ]
  },
  {
   "cell_type": "code",
   "execution_count": 33,
   "id": "244aa2ec-644a-4f27-add7-16a44ab31a4f",
   "metadata": {},
   "outputs": [
    {
     "name": "stdout",
     "output_type": "stream",
     "text": [
      "True\n"
     ]
    }
   ],
   "source": [
    "def isPalindrom( x:int):\n",
    "    if x < 0:\n",
    "        return False\n",
    "    reversed_x = 0\n",
    "    original_x = x\n",
    "    while x > 0:\n",
    "        reversed_x = reversed_x * 10 + x % 10 \n",
    "        x = x // 10 \n",
    "    return reversed_x == original_x\n",
    "print(isPalindrom(0))"
   ]
  },
  {
   "cell_type": "code",
   "execution_count": 37,
   "id": "8aca343a-7f5f-4d4a-8d85-02618a6a873d",
   "metadata": {},
   "outputs": [
    {
     "name": "stdout",
     "output_type": "stream",
     "text": [
      "True\n"
     ]
    }
   ],
   "source": [
    "def isPalindrom( x:int):\n",
    "    if x < 0:\n",
    "        return False\n",
    "    str_x = str(x)\n",
    "    return str_x == str_x[::-1]\n",
    "print(isPalindrom(757))"
   ]
  },
  {
   "cell_type": "code",
   "execution_count": null,
   "id": "b1957f38-3f66-4f0a-b93d-7b593d8692d3",
   "metadata": {},
   "outputs": [],
   "source": [
    "# 101 binary Tree\n",
    "Definition for a binary tree node.\n",
    "class TreeNode:\n",
    "    def __init__(self, val=0, left=None, right=None):\n",
    "        self.val = val\n",
    "        self.left = left\n",
    "        self.right = right\n",
    "class Solution:\n",
    "    def isSymmetric(self, root: Optional[TreeNode]) -> bool:\n",
    "        def same(root1, root2):\n",
    "            if not root1.left and not root2.right:\n",
    "                return True\n",
    "            if not root1.left or not root2.right:\n",
    "                return False\n",
    "            if root1.value or root2.value\n",
    "                return True\n",
    "            return same(root1.left, root2.right) \\\n",
    "                   same(root1.right, root2.left)\n",
    "        return same(root, root)\n",
    "\n"
   ]
  },
  {
   "cell_type": "code",
   "execution_count": 6,
   "id": "590398cb-f30f-467c-8c39-b504bd5c9a00",
   "metadata": {},
   "outputs": [
    {
     "name": "stdout",
     "output_type": "stream",
     "text": [
      "5\n"
     ]
    }
   ],
   "source": [
    "# 1446 \n",
    "def maxPower(s: str) -> int:\n",
    "    counter = 1\n",
    "    power = 1\n",
    "    for letter in range(1, len(s)):\n",
    "        if  s[letter] == s[letter - 1]:\n",
    "            counter += 1    \n",
    "        else:\n",
    "            counter = 1\n",
    "        if counter > power:\n",
    "            power = counter\n",
    "    return power\n",
    "print(maxPower('abbcccddddeeeeedcba'))"
   ]
  },
  {
   "cell_type": "code",
   "execution_count": 3,
   "id": "e79d61c6-6bb2-407c-8eda-42424a35f4b2",
   "metadata": {},
   "outputs": [
    {
     "ename": "AttributeError",
     "evalue": "'list' object has no attribute 'unique'",
     "output_type": "error",
     "traceback": [
      "\u001b[1;31m---------------------------------------------------------------------------\u001b[0m",
      "\u001b[1;31mAttributeError\u001b[0m                            Traceback (most recent call last)",
      "Cell \u001b[1;32mIn[3], line 2\u001b[0m\n\u001b[0;32m      1\u001b[0m s \u001b[38;5;241m=\u001b[39m [\u001b[38;5;241m1\u001b[39m,\u001b[38;5;241m2\u001b[39m,\u001b[38;5;241m32\u001b[39m,\u001b[38;5;241m4\u001b[39m]\n\u001b[1;32m----> 2\u001b[0m \u001b[43ms\u001b[49m\u001b[38;5;241;43m.\u001b[39;49m\u001b[43munique\u001b[49m()\n",
      "\u001b[1;31mAttributeError\u001b[0m: 'list' object has no attribute 'unique'"
     ]
    }
   ],
   "source": [
    "#232 реализация FIFO queue из двух стеков\n",
    "class MyQueue:\n",
    "\n",
    "    def __init__(self):\n",
    "        self.stack1 = []\n",
    "        self.stack2 = [] \n",
    "\n",
    "    def push(self, x: int) -> None:\n",
    "        return self.stack1.append(x)\n",
    "\n",
    "    def pop(self) -> int:\n",
    "        if not self.stack2:\n",
    "            while self.stack1:\n",
    "                self.stack2.append(self.stack1.pop())\n",
    "        return self.stack2.pop()\n",
    "    def peek(self) -> int:\n",
    "        if not self.stack2:\n",
    "            while self.stack1:\n",
    "                self.stack2.append(self.stack1.pop())\n",
    "        return self.stack2[-1]\n",
    "\n",
    "    def empty(self) -> bool:\n",
    "        return not self.stack1 and not self.stack2\n",
    "        \n",
    "\n",
    "\n",
    "# Your MyQueue object will be instantiated and called as such:\n",
    "# obj = MyQueue()\n",
    "# obj.push(x)\n",
    "# param_2 = obj.pop()\n",
    "# param_3 = obj.peek()\n",
    "# param_4 = obj.empty()"
   ]
  }
 ],
 "metadata": {
  "kernelspec": {
   "display_name": "Python 3 (ipykernel)",
   "language": "python",
   "name": "python3"
  },
  "language_info": {
   "codemirror_mode": {
    "name": "ipython",
    "version": 3
   },
   "file_extension": ".py",
   "mimetype": "text/x-python",
   "name": "python",
   "nbconvert_exporter": "python",
   "pygments_lexer": "ipython3",
   "version": "3.12.6"
  }
 },
 "nbformat": 4,
 "nbformat_minor": 5
}
