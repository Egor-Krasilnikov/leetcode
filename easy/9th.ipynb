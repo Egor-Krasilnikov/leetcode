{
 "cells": [
  {
   "cell_type": "code",
   "execution_count": 34,
   "id": "19df0778-1dd7-48c1-87d9-55a1008ad611",
   "metadata": {},
   "outputs": [
    {
     "name": "stdout",
     "output_type": "stream",
     "text": [
      "True\n"
     ]
    }
   ],
   "source": [
    "def isPalindrom(x:int):\n",
    "    arr = []\n",
    "    if x < 0:\n",
    "        return False\n",
    "    elif x < 10:\n",
    "        return True\n",
    "    while x > 0:\n",
    "        arr.append(x % 10)\n",
    "        x = x // 10 \n",
    "    for i in range(len(arr)//2 ):\n",
    "        if arr[i] != arr[-(i + 1)]:  \n",
    "            return False\n",
    "    return True\n",
    "print(isPalindrom(0))"
   ]
  },
  {
   "cell_type": "code",
   "execution_count": 33,
   "id": "244aa2ec-644a-4f27-add7-16a44ab31a4f",
   "metadata": {},
   "outputs": [
    {
     "name": "stdout",
     "output_type": "stream",
     "text": [
      "True\n"
     ]
    }
   ],
   "source": [
    "def isPalindrom( x:int):\n",
    "    if x < 0:\n",
    "        return False\n",
    "    reversed_x = 0\n",
    "    original_x = x\n",
    "    while x > 0:\n",
    "        reversed_x = reversed_x * 10 + x % 10 \n",
    "        x = x // 10 \n",
    "    return reversed_x == original_x\n",
    "print(isPalindrom(0))"
   ]
  },
  {
   "cell_type": "code",
   "execution_count": 37,
   "id": "8aca343a-7f5f-4d4a-8d85-02618a6a873d",
   "metadata": {},
   "outputs": [
    {
     "name": "stdout",
     "output_type": "stream",
     "text": [
      "True\n"
     ]
    }
   ],
   "source": [
    "def isPalindrom( x:int):\n",
    "    if x < 0:\n",
    "        return False\n",
    "    str_x = str(x)\n",
    "    return str_x == str_x[::-1]\n",
    "print(isPalindrom(757))"
   ]
  },
  {
   "cell_type": "code",
   "execution_count": null,
   "id": "b1957f38-3f66-4f0a-b93d-7b593d8692d3",
   "metadata": {},
   "outputs": [],
   "source": []
  }
 ],
 "metadata": {
  "kernelspec": {
   "display_name": "Python 3 (ipykernel)",
   "language": "python",
   "name": "python3"
  },
  "language_info": {
   "codemirror_mode": {
    "name": "ipython",
    "version": 3
   },
   "file_extension": ".py",
   "mimetype": "text/x-python",
   "name": "python",
   "nbconvert_exporter": "python",
   "pygments_lexer": "ipython3",
   "version": "3.12.6"
  }
 },
 "nbformat": 4,
 "nbformat_minor": 5
}
